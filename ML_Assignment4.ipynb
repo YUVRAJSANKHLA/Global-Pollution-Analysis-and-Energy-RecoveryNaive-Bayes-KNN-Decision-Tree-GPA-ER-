{
  "cells": [
    {
      "cell_type": "markdown",
      "metadata": {
        "id": "KHMcsGTe8BED"
      },
      "source": [
        "**Phase 1: Data Preprocessing**"
      ]
    },
    {
      "cell_type": "code",
      "execution_count": 1,
      "metadata": {
        "colab": {
          "base_uri": "https://localhost:8080/",
          "height": 73
        },
        "id": "FRL8yQ1MnspI",
        "outputId": "f71ef3bf-339e-4da2-ac4f-e7c5d7f875bb"
      },
      "outputs": [
        {
          "output_type": "display_data",
          "data": {
            "text/plain": [
              "<IPython.core.display.HTML object>"
            ],
            "text/html": [
              "\n",
              "     <input type=\"file\" id=\"files-7d132baf-aef0-4f4c-ad9c-fe00adf8adf8\" name=\"files[]\" multiple disabled\n",
              "        style=\"border:none\" />\n",
              "     <output id=\"result-7d132baf-aef0-4f4c-ad9c-fe00adf8adf8\">\n",
              "      Upload widget is only available when the cell has been executed in the\n",
              "      current browser session. Please rerun this cell to enable.\n",
              "      </output>\n",
              "      <script>// Copyright 2017 Google LLC\n",
              "//\n",
              "// Licensed under the Apache License, Version 2.0 (the \"License\");\n",
              "// you may not use this file except in compliance with the License.\n",
              "// You may obtain a copy of the License at\n",
              "//\n",
              "//      http://www.apache.org/licenses/LICENSE-2.0\n",
              "//\n",
              "// Unless required by applicable law or agreed to in writing, software\n",
              "// distributed under the License is distributed on an \"AS IS\" BASIS,\n",
              "// WITHOUT WARRANTIES OR CONDITIONS OF ANY KIND, either express or implied.\n",
              "// See the License for the specific language governing permissions and\n",
              "// limitations under the License.\n",
              "\n",
              "/**\n",
              " * @fileoverview Helpers for google.colab Python module.\n",
              " */\n",
              "(function(scope) {\n",
              "function span(text, styleAttributes = {}) {\n",
              "  const element = document.createElement('span');\n",
              "  element.textContent = text;\n",
              "  for (const key of Object.keys(styleAttributes)) {\n",
              "    element.style[key] = styleAttributes[key];\n",
              "  }\n",
              "  return element;\n",
              "}\n",
              "\n",
              "// Max number of bytes which will be uploaded at a time.\n",
              "const MAX_PAYLOAD_SIZE = 100 * 1024;\n",
              "\n",
              "function _uploadFiles(inputId, outputId) {\n",
              "  const steps = uploadFilesStep(inputId, outputId);\n",
              "  const outputElement = document.getElementById(outputId);\n",
              "  // Cache steps on the outputElement to make it available for the next call\n",
              "  // to uploadFilesContinue from Python.\n",
              "  outputElement.steps = steps;\n",
              "\n",
              "  return _uploadFilesContinue(outputId);\n",
              "}\n",
              "\n",
              "// This is roughly an async generator (not supported in the browser yet),\n",
              "// where there are multiple asynchronous steps and the Python side is going\n",
              "// to poll for completion of each step.\n",
              "// This uses a Promise to block the python side on completion of each step,\n",
              "// then passes the result of the previous step as the input to the next step.\n",
              "function _uploadFilesContinue(outputId) {\n",
              "  const outputElement = document.getElementById(outputId);\n",
              "  const steps = outputElement.steps;\n",
              "\n",
              "  const next = steps.next(outputElement.lastPromiseValue);\n",
              "  return Promise.resolve(next.value.promise).then((value) => {\n",
              "    // Cache the last promise value to make it available to the next\n",
              "    // step of the generator.\n",
              "    outputElement.lastPromiseValue = value;\n",
              "    return next.value.response;\n",
              "  });\n",
              "}\n",
              "\n",
              "/**\n",
              " * Generator function which is called between each async step of the upload\n",
              " * process.\n",
              " * @param {string} inputId Element ID of the input file picker element.\n",
              " * @param {string} outputId Element ID of the output display.\n",
              " * @return {!Iterable<!Object>} Iterable of next steps.\n",
              " */\n",
              "function* uploadFilesStep(inputId, outputId) {\n",
              "  const inputElement = document.getElementById(inputId);\n",
              "  inputElement.disabled = false;\n",
              "\n",
              "  const outputElement = document.getElementById(outputId);\n",
              "  outputElement.innerHTML = '';\n",
              "\n",
              "  const pickedPromise = new Promise((resolve) => {\n",
              "    inputElement.addEventListener('change', (e) => {\n",
              "      resolve(e.target.files);\n",
              "    });\n",
              "  });\n",
              "\n",
              "  const cancel = document.createElement('button');\n",
              "  inputElement.parentElement.appendChild(cancel);\n",
              "  cancel.textContent = 'Cancel upload';\n",
              "  const cancelPromise = new Promise((resolve) => {\n",
              "    cancel.onclick = () => {\n",
              "      resolve(null);\n",
              "    };\n",
              "  });\n",
              "\n",
              "  // Wait for the user to pick the files.\n",
              "  const files = yield {\n",
              "    promise: Promise.race([pickedPromise, cancelPromise]),\n",
              "    response: {\n",
              "      action: 'starting',\n",
              "    }\n",
              "  };\n",
              "\n",
              "  cancel.remove();\n",
              "\n",
              "  // Disable the input element since further picks are not allowed.\n",
              "  inputElement.disabled = true;\n",
              "\n",
              "  if (!files) {\n",
              "    return {\n",
              "      response: {\n",
              "        action: 'complete',\n",
              "      }\n",
              "    };\n",
              "  }\n",
              "\n",
              "  for (const file of files) {\n",
              "    const li = document.createElement('li');\n",
              "    li.append(span(file.name, {fontWeight: 'bold'}));\n",
              "    li.append(span(\n",
              "        `(${file.type || 'n/a'}) - ${file.size} bytes, ` +\n",
              "        `last modified: ${\n",
              "            file.lastModifiedDate ? file.lastModifiedDate.toLocaleDateString() :\n",
              "                                    'n/a'} - `));\n",
              "    const percent = span('0% done');\n",
              "    li.appendChild(percent);\n",
              "\n",
              "    outputElement.appendChild(li);\n",
              "\n",
              "    const fileDataPromise = new Promise((resolve) => {\n",
              "      const reader = new FileReader();\n",
              "      reader.onload = (e) => {\n",
              "        resolve(e.target.result);\n",
              "      };\n",
              "      reader.readAsArrayBuffer(file);\n",
              "    });\n",
              "    // Wait for the data to be ready.\n",
              "    let fileData = yield {\n",
              "      promise: fileDataPromise,\n",
              "      response: {\n",
              "        action: 'continue',\n",
              "      }\n",
              "    };\n",
              "\n",
              "    // Use a chunked sending to avoid message size limits. See b/62115660.\n",
              "    let position = 0;\n",
              "    do {\n",
              "      const length = Math.min(fileData.byteLength - position, MAX_PAYLOAD_SIZE);\n",
              "      const chunk = new Uint8Array(fileData, position, length);\n",
              "      position += length;\n",
              "\n",
              "      const base64 = btoa(String.fromCharCode.apply(null, chunk));\n",
              "      yield {\n",
              "        response: {\n",
              "          action: 'append',\n",
              "          file: file.name,\n",
              "          data: base64,\n",
              "        },\n",
              "      };\n",
              "\n",
              "      let percentDone = fileData.byteLength === 0 ?\n",
              "          100 :\n",
              "          Math.round((position / fileData.byteLength) * 100);\n",
              "      percent.textContent = `${percentDone}% done`;\n",
              "\n",
              "    } while (position < fileData.byteLength);\n",
              "  }\n",
              "\n",
              "  // All done.\n",
              "  yield {\n",
              "    response: {\n",
              "      action: 'complete',\n",
              "    }\n",
              "  };\n",
              "}\n",
              "\n",
              "scope.google = scope.google || {};\n",
              "scope.google.colab = scope.google.colab || {};\n",
              "scope.google.colab._files = {\n",
              "  _uploadFiles,\n",
              "  _uploadFilesContinue,\n",
              "};\n",
              "})(self);\n",
              "</script> "
            ]
          },
          "metadata": {}
        },
        {
          "output_type": "stream",
          "name": "stdout",
          "text": [
            "Saving Global_Pollution_Analysis .csv to Global_Pollution_Analysis .csv\n"
          ]
        }
      ],
      "source": [
        "from google.colab import files\n",
        "uploaded = files.upload()\n"
      ]
    },
    {
      "cell_type": "code",
      "source": [
        "import pandas as pd\n",
        "import numpy as np\n",
        "from sklearn.preprocessing import StandardScaler, LabelEncoder\n",
        "from sklearn.model_selection import train_test_split\n",
        "from sklearn.naive_bayes import MultinomialNB\n",
        "from sklearn.neighbors import KNeighborsClassifier\n",
        "from sklearn.tree import DecisionTreeClassifier\n",
        "from sklearn.metrics import classification_report, confusion_matrix, accuracy_score\n",
        "import matplotlib.pyplot as plt\n",
        "import seaborn as sns"
      ],
      "metadata": {
        "id": "IIyl1nAgf34n"
      },
      "execution_count": 2,
      "outputs": []
    },
    {
      "cell_type": "markdown",
      "metadata": {
        "id": "dzBLqzSP4Yim"
      },
      "source": [
        " Step 1: Data Import and Cleaning"
      ]
    },
    {
      "cell_type": "code",
      "source": [
        "# Load the dataset\n",
        "df = pd.read_csv('Global_Pollution_Analysis .csv')\n",
        "\n",
        "# Label Encoding for categorical features\n",
        "le_country = LabelEncoder()\n",
        "df['Country_Encoded'] = le_country.fit_transform(df['Country'])\n",
        "\n",
        "le_year = LabelEncoder()\n",
        "df['Year_Encoded'] = le_year.fit_transform(df['Year'])\n"
      ],
      "metadata": {
        "id": "Ai5fxGoif2BG"
      },
      "execution_count": 3,
      "outputs": []
    },
    {
      "cell_type": "markdown",
      "source": [
        "Step 2: Feature Engineering"
      ],
      "metadata": {
        "id": "oa327LfAgQ8y"
      }
    },
    {
      "cell_type": "code",
      "source": [
        "# Feature Engineering: Create pollution severity category\n",
        "pollution_avg = df[['Air_Pollution_Index', 'Water_Pollution_Index', 'Soil_Pollution_Index']].mean(axis=1)\n",
        "df['Pollution_Severity'] = pd.cut(pollution_avg,\n",
        "                                   bins=[-np.inf, 100, 200, np.inf],\n",
        "                                   labels=['Low', 'Medium', 'High'])\n",
        "\n",
        "# Feature Engineering: Energy consumption per capita ratio (already in dataset) and pollution trend\n",
        "df['Pollution_Trend'] = df.groupby('Country')['Air_Pollution_Index'].diff().fillna(0)\n",
        "\n",
        "# Features to be standardized\n",
        "features_to_scale = [\n",
        "    'Air_Pollution_Index', 'Water_Pollution_Index', 'Soil_Pollution_Index',\n",
        "    'CO2_Emissions (in MT)', 'Industrial_Waste (in tons)',\n",
        "    'Energy_Recovered (in GWh)', 'Plastic_Waste_Produced (in tons)',\n",
        "    'Energy_Consumption_Per_Capita (in MWh)', 'GDP_Per_Capita (in USD)',\n",
        "    'Population (in millions)', 'Renewable_Energy (%)', 'Pollution_Trend'\n",
        "]\n",
        "\n",
        "scaler = StandardScaler()\n",
        "df_scaled = df.copy()\n",
        "df_scaled[features_to_scale] = scaler.fit_transform(df[features_to_scale])\n",
        "\n",
        "# Final Feature Set\n",
        "features = df_scaled[features_to_scale + ['Country_Encoded', 'Year_Encoded']]\n",
        "target = df_scaled['Pollution_Severity']\n",
        "\n",
        "# Train-Test Split\n",
        "X_train, X_test, y_train, y_test = train_test_split(features, target, test_size=0.2, random_state=42)"
      ],
      "metadata": {
        "id": "zb80NgzFgROg"
      },
      "execution_count": 10,
      "outputs": []
    },
    {
      "cell_type": "markdown",
      "source": [
        "**Phase 2: Classification and Evaluation**"
      ],
      "metadata": {
        "id": "2gwjbWGfgbAT"
      }
    },
    {
      "cell_type": "markdown",
      "source": [
        "Step 3: Naive Bayes Classifier"
      ],
      "metadata": {
        "id": "NigWZyvKgv4y"
      }
    },
    {
      "cell_type": "code",
      "source": [
        "#Naive Bayes Classifier\n",
        "from sklearn.naive_bayes import GaussianNB\n",
        "nb_model = GaussianNB()\n",
        "\n",
        "nb_model.fit(X_train, y_train)\n",
        "y_pred_nb = nb_model.predict(X_test)\n"
      ],
      "metadata": {
        "id": "k9lzIU53hlZ1"
      },
      "execution_count": 14,
      "outputs": []
    },
    {
      "cell_type": "markdown",
      "source": [
        "Step 4: KNNN"
      ],
      "metadata": {
        "id": "1NBjgPa1g5rf"
      }
    },
    {
      "cell_type": "code",
      "source": [
        "#K-Nearest Neighbors\n",
        "best_k = 5  # Default; hyperparameter tuning can be added\n",
        "knn_model = KNeighborsClassifier(n_neighbors=best_k)\n",
        "knn_model.fit(X_train, y_train)\n",
        "y_pred_knn = knn_model.predict(X_test)"
      ],
      "metadata": {
        "id": "mWILydSjj0tV"
      },
      "execution_count": 15,
      "outputs": []
    },
    {
      "cell_type": "markdown",
      "source": [
        "Step 5: Decision Tree"
      ],
      "metadata": {
        "id": "9h9Sz5SVj6bg"
      }
    },
    {
      "cell_type": "code",
      "source": [
        "#Decision Tree\n",
        "dt_model = DecisionTreeClassifier(max_depth=5, min_samples_split=10, random_state=42)\n",
        "dt_model.fit(X_train, y_train)\n",
        "y_pred_dt = dt_model.predict(X_test)"
      ],
      "metadata": {
        "id": "Y1ptq9_Nj6tb"
      },
      "execution_count": 16,
      "outputs": []
    },
    {
      "cell_type": "markdown",
      "source": [
        "**Phase 3: Evaluation Reports**"
      ],
      "metadata": {
        "id": "s7W7GKQ0kKN8"
      }
    },
    {
      "cell_type": "markdown",
      "source": [
        "Step 6: Model Comperission"
      ],
      "metadata": {
        "id": "3uO1u2_GkRA0"
      }
    },
    {
      "cell_type": "code",
      "source": [
        "def evaluate_model(y_true, y_pred, title):\n",
        "    print(f\"\\n--- {title} ---\")\n",
        "    print(\"Accuracy:\", accuracy_score(y_true, y_pred))\n",
        "    print(\"Classification Report:\\n\", classification_report(y_true, y_pred))\n",
        "    cm = confusion_matrix(y_true, y_pred)\n",
        "    sns.heatmap(cm, annot=True, fmt='d', cmap='Blues', xticklabels=['Low', 'Medium', 'High'], yticklabels=['Low', 'Medium', 'High'])\n",
        "    plt.title(f'Confusion Matrix - {title}')\n",
        "    plt.xlabel('Predicted')\n",
        "    plt.ylabel('True')\n",
        "    plt.show()\n",
        "\n",
        "\n",
        "# Evaluate all models\n",
        "evaluate_model(y_test, y_pred_nb, \"Multinomial Naive Bayes\")\n",
        "evaluate_model(y_test, y_pred_knn, \"K-Nearest Neighbors\")\n",
        "evaluate_model(y_test, y_pred_dt, \"Decision Tree\")"
      ],
      "metadata": {
        "colab": {
          "base_uri": "https://localhost:8080/",
          "height": 1000
        },
        "id": "O_IE0rOvkWFV",
        "outputId": "4a35f7d3-e726-440b-d140-4435e730281a"
      },
      "execution_count": 19,
      "outputs": [
        {
          "output_type": "stream",
          "name": "stdout",
          "text": [
            "\n",
            "--- Multinomial Naive Bayes ---\n",
            "Accuracy: 0.875\n",
            "Classification Report:\n",
            "               precision    recall  f1-score   support\n",
            "\n",
            "         Low       1.00      0.50      0.67        10\n",
            "      Medium       0.86      1.00      0.92        30\n",
            "\n",
            "    accuracy                           0.88        40\n",
            "   macro avg       0.93      0.75      0.79        40\n",
            "weighted avg       0.89      0.88      0.86        40\n",
            "\n"
          ]
        },
        {
          "output_type": "display_data",
          "data": {
            "text/plain": [
              "<Figure size 640x480 with 2 Axes>"
            ],
            "image/png": "[encoded data removed]"
          },
          "metadata": {}
        },
        {
          "output_type": "stream",
          "name": "stdout",
          "text": [
            "\n",
            "--- K-Nearest Neighbors ---\n",
            "Accuracy: 0.75\n",
            "Classification Report:\n",
            "               precision    recall  f1-score   support\n",
            "\n",
            "         Low       0.50      0.10      0.17        10\n",
            "      Medium       0.76      0.97      0.85        30\n",
            "\n",
            "    accuracy                           0.75        40\n",
            "   macro avg       0.63      0.53      0.51        40\n",
            "weighted avg       0.70      0.75      0.68        40\n",
            "\n"
          ]
        },
        {
          "output_type": "display_data",
          "data": {
            "text/plain": [
              "<Figure size 640x480 with 2 Axes>"
            ],
            "image/png": "[encoded data removed]"
          },
          "metadata": {}
        },
        {
          "output_type": "stream",
          "name": "stdout",
          "text": [
            "\n",
            "--- Decision Tree ---\n",
            "Accuracy: 0.875\n",
            "Classification Report:\n",
            "               precision    recall  f1-score   support\n",
            "\n",
            "         Low       0.78      0.70      0.74        10\n",
            "      Medium       0.90      0.93      0.92        30\n",
            "\n",
            "    accuracy                           0.88        40\n",
            "   macro avg       0.84      0.82      0.83        40\n",
            "weighted avg       0.87      0.88      0.87        40\n",
            "\n"
          ]
        },
        {
          "output_type": "display_data",
          "data": {
            "text/plain": [
              "<Figure size 640x480 with 2 Axes>"
            ],
            "image/png": "[encoded data removed]"
          },
          "metadata": {}
        }
      ]
    },
    {
      "cell_type": "markdown",
      "source": [
        "Step 7: Actionable Insights"
      ],
      "metadata": {
        "id": "INZPe4pOk3MF"
      }
    },
    {
      "cell_type": "code",
      "source": [
        "# Insights\n",
        "# Basic insight extraction (example only)\n",
        "print(\"\\nTop 5 Countries with Highest Average Pollution:\")\n",
        "country_pollution = df.groupby('Country')[['Air_Pollution_Index', 'Water_Pollution_Index', 'Soil_Pollution_Index']].mean()\n",
        "country_pollution['Average_Pollution'] = country_pollution.mean(axis=1)\n",
        "print(country_pollution.sort_values(by='Average_Pollution', ascending=False).head())\n",
        "\n",
        "print(\"\\nPolicy Recommendation: Increase renewable energy usage in countries with high pollution severity and low renewable energy %.\\n\")\n"
      ],
      "metadata": {
        "colab": {
          "base_uri": "https://localhost:8080/"
        },
        "id": "03TKoO3ylz6E",
        "outputId": "377fde7f-fa0e-4f09-c81b-827194710672"
      },
      "execution_count": 20,
      "outputs": [
        {
          "output_type": "stream",
          "name": "stdout",
          "text": [
            "\n",
            "Top 5 Countries with Highest Average Pollution:\n",
            "                          Air_Pollution_Index  Water_Pollution_Index  \\\n",
            "Country                                                                \n",
            "Saint Barthelemy                       297.13                 172.63   \n",
            "Bolivia                                253.88                 188.37   \n",
            "Central African Republic               209.41                 188.14   \n",
            "Christmas Island                       245.99                 157.14   \n",
            "Papua New Guinea                       274.13                 138.76   \n",
            "\n",
            "                          Soil_Pollution_Index  Average_Pollution  \n",
            "Country                                                            \n",
            "Saint Barthelemy                         91.35         187.036667  \n",
            "Bolivia                                 102.24         181.496667  \n",
            "Central African Republic                133.50         177.016667  \n",
            "Christmas Island                        124.72         175.950000  \n",
            "Papua New Guinea                        114.09         175.660000  \n",
            "\n",
            "Policy Recommendation: Increase renewable energy usage in countries with high pollution severity and low renewable energy %.\n",
            "\n"
          ]
        }
      ]
    }
  ],
  "metadata": {
    "colab": {
      "provenance": []
    },
    "kernelspec": {
      "display_name": "Python 3",
      "name": "python3"
    },
    "language_info": {
      "name": "python"
    }
  },
  "nbformat": 4,
  "nbformat_minor": 0
}